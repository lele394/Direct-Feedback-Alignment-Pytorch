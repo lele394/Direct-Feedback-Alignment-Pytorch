{
 "cells": [
  {
   "cell_type": "markdown",
   "metadata": {},
   "source": [
    "# The following is heavily inspired by Anas' work as it served as a basis and an introduction to pyTorch (coming from Tensorflow)"
   ]
  },
  {
   "cell_type": "markdown",
   "metadata": {},
   "source": [
    "Libraries import"
   ]
  },
  {
   "cell_type": "code",
   "execution_count": 141,
   "metadata": {},
   "outputs": [],
   "source": [
    "import torch\n",
    "import torch.nn as nn\n",
    "import matplotlib.pyplot as plt"
   ]
  },
  {
   "cell_type": "markdown",
   "metadata": {},
   "source": [
    "# DFA Model"
   ]
  },
  {
   "cell_type": "code",
   "execution_count": 142,
   "metadata": {},
   "outputs": [],
   "source": [
    "class SimpleDFA(nn.Module):\n",
    "    \n",
    "    def __init__(self, input_size, hidden_size, output_size, hidden_layers_number=1):\n",
    "        \n",
    "        super(SimpleDFA, self).__init__()\n",
    "        self.input_size = input_size\n",
    "        self.hidden_size = hidden_size\n",
    "        self.hidden_layers_number = hidden_layers_number\n",
    "        self.output_size = output_size\n",
    "        \n",
    "        # Use ModuleList for layers\n",
    "        self.layers = nn.ModuleList(\n",
    "            [nn.Linear(input_size, hidden_size)] + \n",
    "            [nn.Linear(hidden_size, hidden_size) for _ in range(hidden_layers_number)] + \n",
    "            [nn.Linear(hidden_size, output_size)]\n",
    "        )\n",
    "        \n",
    "        self.activation = nn.Tanh()  # Use Tanh activation function\n",
    "\n",
    "    def forward(self, x):\n",
    "        # Apply activation to each hidden layer\n",
    "        for layer in self.layers[:-1]:  # All except the last layer\n",
    "            x = self.activation(layer(x))\n",
    "        # Final layer (output layer) without activation\n",
    "        x = self.layers[-1](x)\n",
    "        return x\n",
    "    \n",
    "    \n",
    "    def Init_weights(self):\n",
    "        # Xavier init on weights\n",
    "        for layer in self.layers: \n",
    "            nn.init.xavier_uniform_(layer.weight) \n",
    "\n",
    "    \n",
    "    def Init_feedback(self):\n",
    "        # Create feedback matrices matching each layer's output size\n",
    "        self.B_hiddens = [torch.randn(self.hidden_size, self.output_size) * 0.01 for _ in range(self.hidden_layers_number)]\n",
    "        self.B_output = torch.randn(self.output_size, self.output_size) * 0.01  # Feedback for output layer\n",
    "\n",
    "        # Normalize feedback matrices\n",
    "        for i in range(len(self.B_hiddens)):\n",
    "            self.B_hiddens[i] /= self.B_hiddens[i].norm()\n",
    "        self.B_output /= self.B_output.norm()\n",
    "\n",
    "        return self.B_hiddens + [self.B_output]  # Feedback matrices for hidden layers + output\n",
    "\n",
    "\n",
    "    def forward_pass(self,Input,Target,loss_func):\n",
    "        \n",
    "        # Forward pass\n",
    "        Output = self.forward(Input)\n",
    "        loss = loss_func(Output, Target)\n",
    "        return Output, loss\n",
    "        \n",
    "    def activation_derivative(self, x):\n",
    "        \n",
    "        return 1 - self.activation(x)**2  # Derivative of Tanh activation function\n",
    "    "
   ]
  },
  {
   "cell_type": "markdown",
   "metadata": {},
   "source": [
    "# DFA training step (UPDATING IN PROGRESS)\n",
    "\n",
    "check what's up with hidden_activations"
   ]
  },
  {
   "cell_type": "code",
   "execution_count": 143,
   "metadata": {},
   "outputs": [],
   "source": [
    "def dfa_update_step(model, Bs, output, target, hidden_activations, inputs, learning_rate=0.01):\n",
    "    # Compute error at the output\n",
    "    error = output - target  # Compute error at the output layer\n",
    "\n",
    "    # Update the output layer first\n",
    "    feedback_signal_output = error * model.activation_derivative(output)\n",
    "    with torch.no_grad():\n",
    "        # Update output layer weights and biases\n",
    "        delta_w_out = torch.matmul(feedback_signal_output.T, hidden_activations[-1])\n",
    "        model.layers[-1].weight -= learning_rate * delta_w_out\n",
    "        delta_b_out = feedback_signal_output.sum(0)\n",
    "        model.layers[-1].bias -= learning_rate * delta_b_out\n",
    "\n",
    "    # Now, propagate backward through the hidden layers\n",
    "    for index in reversed(range(len(model.layers) - 1)):  # Hidden layers (in reverse order)\n",
    "        # Compute feedback signal for hidden layers\n",
    "        feedback_signal_hidden = torch.matmul(feedback_signal_output, Bs[index]) * model.activation_derivative(hidden_activations[index])\n",
    "\n",
    "        with torch.no_grad():\n",
    "            # Update weights and biases for hidden layers\n",
    "            delta_w = torch.matmul(feedback_signal_hidden.T, hidden_activations[index - 1] if index > 0 else inputs)\n",
    "            model.layers[index].weight -= learning_rate * delta_w\n",
    "            delta_b = feedback_signal_hidden.sum(0)\n",
    "            model.layers[index].bias -= learning_rate * delta_b\n",
    "\n",
    "            # Prepare feedback signal for the next (previous) layer\n",
    "            feedback_signal_output = feedback_signal_hidden\n",
    "\n"
   ]
  },
  {
   "cell_type": "markdown",
   "metadata": {},
   "source": [
    "# Test stuff"
   ]
  },
  {
   "cell_type": "code",
   "execution_count": 144,
   "metadata": {},
   "outputs": [],
   "source": [
    "def train(model, data, targets, loss_fn, learning_rate=0.01, epochs=1000):\n",
    "    # Initialize feedback matrices\n",
    "    Bs = model.Init_feedback()\n",
    "\n",
    "    losses = []  # To store the loss at each epoch\n",
    "    for epoch in range(epochs):\n",
    "        # Forward pass\n",
    "\n",
    "        # Pass data through each hidden layer and store activations\n",
    "        hidden_activations = []\n",
    "        x = data\n",
    "        for layer in model.layers[:-1]:  # Collect activations for hidden layers only\n",
    "            x = model.activation(layer(x))\n",
    "            hidden_activations.append(x)\n",
    "\n",
    "        output, loss = model.forward_pass(data, targets, loss_fn)\n",
    "\n",
    "        # Apply DFA update step\n",
    "        dfa_update_step(model, Bs, output, targets, hidden_activations, data, learning_rate)\n",
    "\n",
    "        # Store the loss\n",
    "        losses.append(loss.item())\n",
    "\n",
    "        # Print loss and accuracy every 100 epochs\n",
    "        if epoch % 100 == 0:\n",
    "            print(f\"Epoch [{epoch}/{epochs}], Loss: {loss.item()}\")\n",
    "\n",
    "            # Compute accuracy\n",
    "            predictions = (output >= 0.5).float()  # Threshold the output to get binary predictions\n",
    "            correct = (predictions == targets).float().sum()\n",
    "            accuracy = correct / targets.size(0)\n",
    "            print(f\"Accuracy: {accuracy * 100:.2f}%\")\n",
    "    \n",
    "    # Plot the convergence of loss\n",
    "    plt.plot(losses)\n",
    "    plt.title(\"Convergence of Loss\")\n",
    "    plt.xlabel(\"Epoch\")\n",
    "    plt.ylabel(\"Loss\")\n",
    "    plt.grid(True)\n",
    "    plt.show()\n"
   ]
  },
  {
   "cell_type": "code",
   "execution_count": 145,
   "metadata": {},
   "outputs": [
    {
     "name": "stdout",
     "output_type": "stream",
     "text": [
      "Epoch [0/1000], Loss: 0.6948074102401733\n",
      "Accuracy: 50.00%\n",
      "Epoch [100/1000], Loss: 0.18433186411857605\n",
      "Accuracy: 100.00%\n",
      "Epoch [200/1000], Loss: 0.02630317024886608\n",
      "Accuracy: 100.00%\n",
      "Epoch [300/1000], Loss: 0.004430525936186314\n",
      "Accuracy: 100.00%\n",
      "Epoch [400/1000], Loss: 0.0008657918078824878\n",
      "Accuracy: 100.00%\n",
      "Epoch [500/1000], Loss: 0.0035880575887858868\n",
      "Accuracy: 100.00%\n",
      "Epoch [600/1000], Loss: 0.002349691931158304\n",
      "Accuracy: 100.00%\n",
      "Epoch [700/1000], Loss: 5.876858631381765e-05\n",
      "Accuracy: 100.00%\n",
      "Epoch [800/1000], Loss: 1.6137704506036243e-06\n",
      "Accuracy: 100.00%\n",
      "Epoch [900/1000], Loss: 7.286570280484739e-08\n",
      "Accuracy: 100.00%\n"
     ]
    },
    {
     "data": {
      "image/png": "[encoded data removed]",
      "text/plain": [
       "<Figure size 640x480 with 1 Axes>"
      ]
     },
     "metadata": {},
     "output_type": "display_data"
    }
   ],
   "source": [
    "# Example usage with XOR data\n",
    "input_size = 2  # XOR has two input features (0 or 1)\n",
    "hidden_size = 4  # Hidden layers size\n",
    "hidden_layers_number = 1 # Number of hidden layers\n",
    "output_size = 1  # XOR has one output feature (0 or 1)\n",
    "# Define XOR inputs and targets\n",
    "data = torch.tensor([[0, 0], [0, 1], [1, 0], [1, 1]], dtype=torch.float32)  # XOR inputs\n",
    "targets = torch.tensor([[0], [1], [1], [0]], dtype=torch.float32)  # XOR targets\n",
    "\n",
    "# Initialize the model and loss function\n",
    "model = SimpleDFA(input_size, hidden_size, output_size, hidden_layers_number)\n",
    "model.Init_weights()  # Initialize the weights\n",
    "\n",
    "loss_fn = nn.MSELoss()\n",
    "\n",
    "# Train the network using DFA and print XOR accuracy\n",
    "train(model, data, targets, loss_fn, learning_rate=0.1, epochs=1000)"
   ]
  }
 ],
 "metadata": {
  "kernelspec": {
   "display_name": "base",
   "language": "python",
   "name": "python3"
  },
  "language_info": {
   "codemirror_mode": {
    "name": "ipython",
    "version": 3
   },
   "file_extension": ".py",
   "mimetype": "text/x-python",
   "name": "python",
   "nbconvert_exporter": "python",
   "pygments_lexer": "ipython3",
   "version": "3.12.2"
  }
 },
 "nbformat": 4,
 "nbformat_minor": 2
}
