{
 "cells": [
  {
   "cell_type": "markdown",
   "metadata": {},
   "source": [
    "# Training a simple single layer Neural network with DFA\n",
    "\n"
   ]
  },
  {
   "cell_type": "markdown",
   "metadata": {},
   "source": [
    "### useful imports"
   ]
  },
  {
   "cell_type": "code",
   "execution_count": 199,
   "metadata": {},
   "outputs": [],
   "source": [
    "import torch\n",
    "import torch.nn as nn\n",
    "import matplotlib.pyplot as plt"
   ]
  },
  {
   "cell_type": "markdown",
   "metadata": {},
   "source": [
    "### Define NN structure"
   ]
  },
  {
   "cell_type": "code",
   "execution_count": 200,
   "metadata": {},
   "outputs": [],
   "source": [
    "# Define the network architecture with a hidden layer and Tanh activation\n",
    "class SimpleDFA(nn.Module):\n",
    "    \n",
    "    def __init__(self, input_size, hidden_size, output_size):\n",
    "        \n",
    "        self.input_size = input_size\n",
    "        self.hidden_size = hidden_size\n",
    "        self.output_size = output_size\n",
    "        \n",
    "        super(SimpleDFA, self).__init__()\n",
    "        self.fc1 = nn.Linear(input_size, hidden_size)  # Input weight matrix (input to hidden)\n",
    "        self.fc2 = nn.Linear(hidden_size, output_size)  # Output weight matrix (hidden to output)\n",
    "        self.activation = nn.Tanh()  # Use Tanh activation function\n",
    "\n",
    "    def forward(self, x):\n",
    "        \n",
    "        x = self.activation(self.fc1(x))  # Hidden layer with Tanh activation\n",
    "        return self.activation(self.fc2(x))  # Output layer with Tanh activation\n",
    "    \n",
    "    \n",
    "    def Init_weights(self):\n",
    "        # Xavier init on weights\n",
    "        nn.init.xavier_uniform_(self.fc1.weight) \n",
    "        nn.init.xavier_uniform_(self.fc2.weight) \n",
    "\n",
    "        print(self.fc1.weight)\n",
    "        print(self.fc2.weight)\n",
    "        \n",
    "    \n",
    "    def Init_feedback(self):\n",
    "        \n",
    "        self.B_1 = torch.randn(self.output_size, self.output_size) * 0.01  # Feedback for 1st layer\n",
    "        self.B_2 = torch.randn(self.hidden_size, self.output_size) * 0.01 # Feedback for 2nd layer\n",
    "        \n",
    "        #normalize the feedback matrices to avoid exploding feedback\n",
    "        self.B_1 = self.B_1 / self.B_1.norm()\n",
    "        self.B_2 = self.B_2 / self.B_2.norm()\n",
    "        return self.B_1, self.B_2\n",
    "    \n",
    "    def forward_pass(self,Input,Target,loss_func):\n",
    "        \n",
    "        # Forward pass\n",
    "        Output = self.forward(Input)\n",
    "        loss = loss_func(Output, Target)\n",
    "        return Output, loss\n",
    "        \n",
    "    def activation_derivative(self, x):\n",
    "        \n",
    "        return 1 - self.activation(x)**2  # Derivative of Tanh activation function\n",
    "    \n",
    "    \n",
    "def dfa_update_step(model, feedback_matrix_output, feedback_matrix_input, output, target, hidden_activations, inputs, learning_rate=0.01):\n",
    "    #function to update the weights and biases using DFA\n",
    "    error = output - target  # Compute error\n",
    "    \n",
    "    # update the output weights and biases at the output\n",
    "    feedback_signal_output = torch.matmul(error * model.activation_derivative(output), feedback_matrix_output)\n",
    "    \n",
    "    with torch.no_grad():\n",
    "        #weight update for the output layer\n",
    "        delta_w_out = torch.matmul(feedback_signal_output.T, hidden_activations)\n",
    "        model.fc2.weight -= learning_rate * delta_w_out\n",
    "        #bias update for the output layer\n",
    "        delta_b_out = feedback_signal_output.sum(0)\n",
    "        model.fc2.bias -= learning_rate * delta_b_out\n",
    "        \n",
    "    # update the input to hidden weights and biases\n",
    "    feedback_signal_input = torch.matmul(error * model.activation_derivative(hidden_activations), feedback_matrix_input)\n",
    "    \n",
    "    with torch.no_grad():\n",
    "        #weight update for the input layer\n",
    "        delta_w_in = torch.matmul(feedback_signal_input.T, inputs)\n",
    "        model.fc1.weight -= learning_rate * delta_w_in\n",
    "        #bias update for the input layer\n",
    "        delta_b_in = feedback_signal_input.sum(0)\n",
    "        model.fc1.bias -= learning_rate * delta_b_in\n",
    "        \n",
    "        \n",
    "def fa_update_step(model, feedback_matrix_output, feedback_matrix_input, output, target, hidden_activations, inputs, learning_rate=0.01):\n",
    "    #function to update the weights and biases using simple FA\n",
    "    error = output - target  # Compute error\n",
    "    \n",
    "    # update the output weights and biases at the output\n",
    "    feedback_signal_output = torch.matmul(error * model.activation_derivative(output), feedback_matrix_output)\n",
    "    \n",
    "    with torch.no_grad():\n",
    "        #weight update for the output layer\n",
    "        delta_w_out = torch.matmul(feedback_signal_output.T, hidden_activations)\n",
    "        model.fc2.weight -= learning_rate * delta_w_out\n",
    "        #bias update for the output layer\n",
    "        delta_b_out = feedback_signal_output.sum(0)\n",
    "        model.fc2.bias -= learning_rate * delta_b_out\n",
    "        \n",
    "    # update the input to hidden weights and biases\n",
    "    feedback_signal_input = torch.matmul(error * model.activation_derivative(hidden_activations), feedback_matrix_input)\n",
    "    \n",
    "    with torch.no_grad():\n",
    "        #weight update for the input layer\n",
    "        delta_w_in = torch.matmul(feedback_signal_input.T, inputs)\n",
    "        model.fc1.weight -= learning_rate * delta_w_in\n",
    "        #bias update for the input layer\n",
    "        delta_b_in = feedback_signal_input.sum(0)\n",
    "        model.fc1.bias -= learning_rate * delta_b_in\n",
    "        \n",
    "    \n",
    "    "
   ]
  },
  {
   "cell_type": "markdown",
   "metadata": {},
   "source": [
    "### Define training loop funciton"
   ]
  },
  {
   "cell_type": "code",
   "execution_count": 201,
   "metadata": {},
   "outputs": [],
   "source": [
    "def train(model, data, targets, loss_fn, learning_rate=0.01, epochs=1000):\n",
    "    # Initialize feedback matrices\n",
    "    B_1, B_2 = model.Init_feedback()\n",
    "\n",
    "    losses = []  # To store the loss at each epoch\n",
    "    for epoch in range(epochs):\n",
    "        # Forward pass\n",
    "        hidden_activations = model.activation(model.fc1(data))  # Get hidden layer activations\n",
    "        output, loss = model.forward_pass(data, targets, loss_fn)\n",
    "\n",
    "        # Apply DFA update step\n",
    "        dfa_update_step(model, B_1, B_2, output, targets, hidden_activations, data, learning_rate)\n",
    "\n",
    "        # Store the loss\n",
    "        losses.append(loss.item())\n",
    "\n",
    "        # Print loss and accuracy every 100 epochs\n",
    "        if epoch % 100 == 0:\n",
    "            print(f\"Epoch [{epoch}/{epochs}], Loss: {loss.item()}\")\n",
    "\n",
    "            # Compute accuracy\n",
    "            predictions = (output >= 0.5).float()  # Threshold the output to get binary predictions\n",
    "            correct = (predictions == targets).float().sum()\n",
    "            accuracy = correct / targets.size(0)\n",
    "            print(f\"Accuracy: {accuracy * 100:.2f}%\")\n",
    "    \n",
    "    # Plot the convergence of loss\n",
    "    plt.plot(losses)\n",
    "    plt.title(\"Convergence of Loss\")\n",
    "    plt.xlabel(\"Epoch\")\n",
    "    plt.ylabel(\"Loss\")\n",
    "    plt.grid(True)\n",
    "    plt.show()\n"
   ]
  },
  {
   "cell_type": "markdown",
   "metadata": {},
   "source": [
    "#### Trying the code on a simple XOR task"
   ]
  },
  {
   "cell_type": "code",
   "execution_count": 202,
   "metadata": {},
   "outputs": [
    {
     "name": "stdout",
     "output_type": "stream",
     "text": [
      "Parameter containing:\n",
      "tensor([[-0.0895, -0.9612],\n",
      "        [ 0.2016, -0.5855],\n",
      "        [-0.1132,  0.1575],\n",
      "        [ 0.8668,  0.6885]], requires_grad=True)\n",
      "Parameter containing:\n",
      "tensor([[ 1.0131,  0.4140, -0.5230,  0.5658]], requires_grad=True)\n",
      "Epoch [0/1000], Loss: 0.6755965948104858\n",
      "Accuracy: 75.00%\n",
      "Epoch [100/1000], Loss: 2.5\n",
      "Accuracy: 50.00%\n",
      "Epoch [200/1000], Loss: 2.5\n",
      "Accuracy: 50.00%\n",
      "Epoch [300/1000], Loss: 2.5\n",
      "Accuracy: 50.00%\n",
      "Epoch [400/1000], Loss: 2.5\n",
      "Accuracy: 50.00%\n",
      "Epoch [500/1000], Loss: 2.5\n",
      "Accuracy: 50.00%\n",
      "Epoch [600/1000], Loss: 2.5\n",
      "Accuracy: 50.00%\n",
      "Epoch [700/1000], Loss: 2.5\n",
      "Accuracy: 50.00%\n",
      "Epoch [800/1000], Loss: 2.5\n",
      "Accuracy: 50.00%\n",
      "Epoch [900/1000], Loss: 2.5\n",
      "Accuracy: 50.00%\n"
     ]
    },
    {
     "data": {
      "image/png": "[encoded data removed]",
      "text/plain": [
       "<Figure size 640x480 with 1 Axes>"
      ]
     },
     "metadata": {},
     "output_type": "display_data"
    }
   ],
   "source": [
    "# Example usage with XOR data\n",
    "input_size = 2  # XOR has two input features (0 or 1)\n",
    "hidden_size = 4  # You can adjust this value for the hidden layer\n",
    "output_size = 1  # XOR has one output feature (0 or 1)\n",
    "\n",
    "# Define XOR inputs and targets\n",
    "data = torch.tensor([[0, 0], [0, 1], [1, 0], [1, 1]], dtype=torch.float32)  # XOR inputs\n",
    "targets = torch.tensor([[0], [1], [1], [0]], dtype=torch.float32)  # XOR targets\n",
    "\n",
    "# Initialize the model and loss function\n",
    "model = SimpleDFA(input_size, hidden_size, output_size)\n",
    "model.Init_weights()  # Initialize the weights\n",
    "\n",
    "loss_fn = nn.MSELoss()\n",
    "\n",
    "# Train the network using DFA and print XOR accuracy\n",
    "train(model, data, targets, loss_fn, learning_rate=0.1, epochs=1000)\n"
   ]
  },
  {
   "cell_type": "markdown",
   "metadata": {},
   "source": [
    "Outputs something good:\n",
    "\n",
    "```Parameter containing:\n",
    "tensor([[ 0.1014, -0.8468],\n",
    "        [-0.2201, -0.5312],\n",
    "        [-0.3969, -0.3226],\n",
    "        [-0.6857,  0.1513]], requires_grad=True)\n",
    "Parameter containing:\n",
    "tensor([[ 1.0935,  0.1603,  0.2926, -0.6475]], requires_grad=True)\n",
    "```\n",
    "\n",
    "```Parameter containing:\n",
    "tensor([[-0.9218, -0.2437],\n",
    "        [ 0.4282, -0.3765],\n",
    "        [ 0.5311,  0.5537],\n",
    "        [-0.1860, -0.4329]], requires_grad=True)\n",
    "Parameter containing:\n",
    "tensor([[-0.5745,  1.0556, -0.9781,  1.0282]], requires_grad=True)\n",
    "```"
   ]
  },
  {
   "cell_type": "markdown",
   "metadata": {},
   "source": [
    "75%\n",
    "\n",
    "```Parameter containing:\n",
    "tensor([[-0.3351,  0.8220],\n",
    "        [ 0.8428, -0.4076],\n",
    "        [-0.1896, -0.7982],\n",
    "        [-0.6293,  0.8909]], requires_grad=True)\n",
    "Parameter containing:\n",
    "tensor([[-1.0707,  0.1734,  0.2722, -0.1045]], requires_grad=True)\n",
    "```"
   ]
  },
  {
   "cell_type": "markdown",
   "metadata": {},
   "source": [
    "50%\n",
    "\n",
    "```Parameter containing:\n",
    "tensor([[-0.1913,  0.0458],\n",
    "        [ 0.3207, -0.0602],\n",
    "        [ 0.9721, -0.1298],\n",
    "        [-0.7366,  0.3502]], requires_grad=True)\n",
    "Parameter containing:\n",
    "tensor([[-0.8452,  0.2937,  0.6157,  0.7825]], requires_grad=True)\n",
    "```"
   ]
  }
 ],
 "metadata": {
  "kernelspec": {
   "display_name": "base",
   "language": "python",
   "name": "python3"
  },
  "language_info": {
   "codemirror_mode": {
    "name": "ipython",
    "version": 3
   },
   "file_extension": ".py",
   "mimetype": "text/x-python",
   "name": "python",
   "nbconvert_exporter": "python",
   "pygments_lexer": "ipython3",
   "version": "3.12.2"
  }
 },
 "nbformat": 4,
 "nbformat_minor": 2
}
